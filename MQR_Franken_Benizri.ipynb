{
 "cells": [
  {
   "cell_type": "markdown",
   "metadata": {},
   "source": [
    "## Devoir PHYS-F-302, année académique 2019-2020"
   ]
  },
  {
   "cell_type": "markdown",
   "metadata": {},
   "source": [
    "Soit l'équation différentielle linéaire à coefficients constants:"
   ]
  },
  {
   "cell_type": "markdown",
   "metadata": {},
   "source": [
    "\\begin{align}\n",
    "\\frac{d^4 f}{dx^4}-5 \\frac{d^2 f}{dx^2}+ 4f = 0 \\hspace{6cm} (1)\n",
    "\\end{align}"
   ]
  },
  {
   "cell_type": "markdown",
   "metadata": {},
   "source": [
    "où $f$ est une fonction de la variable $x \\in [0\\ 1]$. Par ailleurs, on a les conditions aux bords suivantes:\n",
    "\n",
    "\\begin{align} f(0)=a, f'(0)=b, f(1)=c, f'(1)=d \\hspace{3cm} (2)\\end{align}\n"
   ]
  },
  {
   "cell_type": "markdown",
   "metadata": {},
   "source": [
    "### Question 1 (2 points)\n",
    "Quelle est la solution générale de l'équation (1)?"
   ]
  },
  {
   "cell_type": "markdown",
   "metadata": {},
   "source": [
    "### Question 2 (3 points)\n",
    "Ecrire un code en python qui permet d'évaluer les constantes d'intégration de la solution générale en termes des conditions aux bords (2). Pour cette question vous pouvez vous servir de n'importe quelle routine fournie par numpy."
   ]
  },
  {
   "cell_type": "markdown",
   "metadata": {},
   "source": [
    "### Question 3 (2 points)\n",
    "Que vaut la solution de l'équation (1) pour $a=0, b=0, c=1, d=-1$. Représentez cette fonction sur un graphique."
   ]
  },
  {
   "cell_type": "markdown",
   "metadata": {},
   "source": [
    "### Question 4 (6 points)\n",
    "Résoudre l'équation (1) avec la méthode Gauss-Seidel vue dans le cours. Combien d'itérations sont nécessaires? Comparer votre solution avec la solution obtenue à la question 3 (graphiquement et en mesurant la norme L2 de la différence).\n",
    "### Question 5 (7 points)\n",
    "Résoudre l'équation (1) avec la méthode du gradient conjugué vue dans le cours. Combien d'itérations sont nécessaires? Comparer votre solution avec la solution obtenue à la question 3 (graphiquement et en mesurant la norme L2 de la différence)."
   ]
  },
  {
   "cell_type": "markdown",
   "metadata": {},
   "source": [
    "## Consignes:\n",
    "- Pour les questions 4 et 5 prendre $nx=101$ pour discrétiser l'interval $x\\in [0\\ 1]$.\n",
    "- Faites converger les méthodes itératives jusqu'à ce que la différence en norme L2 de deux itérations successives soit $<10^{-8}$."
   ]
  },
  {
   "cell_type": "code",
   "execution_count": 1,
   "metadata": {},
   "outputs": [],
   "source": [
    "def L2_rel_error(p, pn):\n",
    "    ''' Compute the relative L2 norm of the difference\n",
    "    Parameters:\n",
    "    ----------\n",
    "    p : array of float \n",
    "        array 1\n",
    "    pn: array of float\n",
    "        array 2\n",
    "    Returns :\n",
    "    --------\n",
    "    Relative L2 norm of the difference\n",
    "    '''\n",
    "    return np.sqrt(np.sum((p - pn)**2)/np.sum(pn**2))"
   ]
  },
  {
   "cell_type": "markdown",
   "metadata": {},
   "source": [
    "## Solutions :"
   ]
  },
  {
   "cell_type": "markdown",
   "metadata": {},
   "source": [
    "On commence par importer les modules pertinents."
   ]
  },
  {
   "cell_type": "code",
   "execution_count": 2,
   "metadata": {},
   "outputs": [],
   "source": [
    "#Importons numpy, numba et matplotlib\n",
    "import numpy as np\n",
    "from matplotlib import pyplot\n",
    "%matplotlib inline\n",
    "import numba\n",
    "from numba import jit\n",
    "# On choisis la police et la taille que l'on souhaite dans nos graphiques\n",
    "pyplot.rcParams['font.family'] = 'serif'\n",
    "pyplot.rcParams['font.size'] = 16"
   ]
  },
  {
   "cell_type": "markdown",
   "metadata": {},
   "source": [
    "### 1) \n",
    "\n",
    "Le polynôme caractéristique de l'équation (1) est :\n",
    "\n",
    "\\begin{equation}\n",
    "p_{caract}(m)=m^4-5m^2+4\n",
    "\\end{equation}\n",
    "\n",
    "En posant $m^2=n$, on trouve:\n",
    "\n",
    "\\begin{equation}\n",
    "n^2-5n+4=0\\\\\n",
    "\\Leftrightarrow n\\in\\{1,4\\}\\\\\n",
    "\\Rightarrow m \\in \\{-2,-1,1,2\\}\n",
    "\\end{equation}\n",
    "\n",
    "Remarque : On pourrait aussi chercher une solution de la forme $e^{\\lambda\\cdot x}$. On obtient alors :\n",
    "\n",
    "\\begin{equation}\n",
    "e^{\\lambda\\cdot x}\\cdot p_{caract}(\\lambda)=0\n",
    "\\end{equation}\n",
    "\n",
    "ce qui justifie l'étude des racines du polynôme caractéristique, "
   ]
  },
  {
   "cell_type": "markdown",
   "metadata": {},
   "source": [
    "L'ensemble des solutions de (1) est donc donné par :"
   ]
  },
  {
   "cell_type": "markdown",
   "metadata": {},
   "source": [
    "\\begin{equation}\n",
    "f(x) = C_1e^{-2x} + C_2e^{-x} + C_3e^{x} + C_4e^{2x} \\hspace{4cm} (3)\n",
    "\\end{equation}\n"
   ]
  },
  {
   "cell_type": "markdown",
   "metadata": {},
   "source": [
    "Où $C_1$,$C_2$,$C_3$,$C_4$ sont des constantes réelles."
   ]
  },
  {
   "cell_type": "markdown",
   "metadata": {},
   "source": [
    "### 2)"
   ]
  },
  {
   "cell_type": "markdown",
   "metadata": {},
   "source": [
    "Pour déterminer ces 4 constantes réelles, on a besoins de 4 conditions au bord.\n",
    "\n",
    "\\begin{align}\n",
    "\\left\\{\n",
    "    \\begin{array}{ll} \n",
    "        f(0)&=a\\\\\n",
    "        f'(0)&=b\\\\\n",
    "        f(1)&=c\\\\\n",
    "        f'(1)&=d\n",
    "    \\end{array}\n",
    "\\right.\n",
    "\\end{align}"
   ]
  },
  {
   "cell_type": "markdown",
   "metadata": {},
   "source": [
    "\\begin{align}\n",
    "\\Rightarrow\n",
    "\\left\\{\n",
    "    \\begin{array}{ll} \n",
    "        C_1+C_2+C_3+C_4&=a\\\\\n",
    "        -2C_1-C_2+C_3+2C_4&=b\\\\\n",
    "        C_1e^{-2}+C_2e^{-1}+C_3e+C_4e^{2}&=c\\\\\n",
    "        -2C_1e^{-2}-C_2e^{-1}+C_3e+2C_4e^{2}&=d\n",
    "    \\end{array}\n",
    "\\right.\n",
    "\\end{align}"
   ]
  },
  {
   "cell_type": "markdown",
   "metadata": {},
   "source": [
    "Evaluer les constantes d'intégration $C_1$,$C_2$,$C_3$ et $C_4$ revient donc à résoudre ce système de quatre équation à quatre inconnues. Ecrivons une fonction nous donnant les quatre constantes d'intégration lorsqu'on lui fournit a,b,c et d."
   ]
  },
  {
   "cell_type": "code",
   "execution_count": 3,
   "metadata": {},
   "outputs": [],
   "source": [
    "def constants_of_int(a,b,c,d):\n",
    "    \"\"\"\n",
    "    Calcule les constantes d'intégration de f(x) en fonction des valeurs de a,b,c et d.\n",
    "    \n",
    "    Paramètres :\n",
    "    ----------\n",
    "    a,b,c,d :   float\n",
    "                Conditions de bords du système : f(0)=a, f'(0)=b, f(1)=c, f'(1)=d\n",
    "                \n",
    "    Retourne :\n",
    "    --------\n",
    "    C_1, C_2, C_3, C_4 :    float\n",
    "                            Constantes d'intégration de f(x)\n",
    "    \n",
    "    \"\"\"\n",
    "    #On définit \"system\", la matrice 4 par 4 correspondant au système d'équation\n",
    "    system = np.array([[1,1,1,1],[-2,-1,1,2],[np.exp(-2),np.exp(-1),np.exp(1),np.exp(2)],\n",
    "                [-2*np.exp(-2),-np.exp(-1),np.exp(1),2*np.exp(2)]])\n",
    "    variables = np.array([a,b,c,d])\n",
    "    #On utilise la fonction \"solve\" de numpy qui résout les systèmes d'équations linéaires\n",
    "    constants = np.linalg.solve(system, variables)\n",
    "    return constants[0], constants[1], constants[2], constants[3]"
   ]
  },
  {
   "cell_type": "markdown",
   "metadata": {},
   "source": [
    "### 3)\n",
    "On peut appliquer la fonction constant_of_int aux conditions de bord a=b=0, c=-d=1. C'est-à-dire :\n",
    "\n",
    "\\begin{equation}\n",
    "\\left\\{\n",
    "    \\begin{array}{ll} \n",
    "        f(0)&=0\\\\\n",
    "        f'(0)&=0\\\\\n",
    "        f(1)&=1\\\\\n",
    "        f'(1)&=-1\n",
    "    \\end{array}\n",
    "\\right. \\hspace{6cm} (4)\n",
    "\\end{equation}"
   ]
  },
  {
   "cell_type": "code",
   "execution_count": 4,
   "metadata": {},
   "outputs": [
    {
     "data": {
      "text/plain": [
       "(3.3522814379441543,\n",
       " -5.3373917644283235,\n",
       " 2.603049541508353,\n",
       " -0.6179392150241841)"
      ]
     },
     "execution_count": 4,
     "metadata": {},
     "output_type": "execute_result"
    }
   ],
   "source": [
    "constants_of_int(0,0,1,-1)"
   ]
  },
  {
   "cell_type": "markdown",
   "metadata": {},
   "source": [
    "\\begin{equation}\n",
    "\\Rightarrow\n",
    "\\left\\{\n",
    "    \\begin{array}{ll} \n",
    "        C_1 = 3.3522814379441543\\\\\n",
    "        C_2 = -5.3373917644283235\\\\\n",
    "        C_3 = 2.603049541508353\\\\\n",
    "        C_4 =  -0.6179392150241841\n",
    "    \\end{array}\n",
    "\\right. \\hspace{4cm} (5)\n",
    "\\end{equation}"
   ]
  },
  {
   "cell_type": "markdown",
   "metadata": {},
   "source": [
    "La solution à l'équation (1) avec les conditions au bord (4) est donc la fonction (3) avec les constantes d'intégrations (5) :\n",
    "\n",
    "\\begin{equation}\n",
    "f(x) = 3.3522814379441543 \\cdot e^{-2x} -5.3373917644283235\\cdot e^{-x} + 2.603049541508353\\cdot e^{x}  -0.6179392150241841\\cdot e^{2x} \\hspace{1cm} (6)\n",
    "\\end{equation}\n",
    "\n",
    "Représentons cette fonction graphiquement. Pour ce faire, on discrétise l'axe x et on détermine la valeur de la fonction (6) en l'ensemble fini de points obtenus."
   ]
  },
  {
   "cell_type": "code",
   "execution_count": 5,
   "metadata": {},
   "outputs": [],
   "source": [
    "#Discrétisation de l'axe x\n",
    "nx = 101  # nombre de points sur l'axe x\n",
    "xmin, xmax = 0.0, 1.0  # limites du domaine\n",
    "Lx = (xmax - xmin)  # longueur du domaine\n",
    "dx = Lx / (nx - 1)  # espacement entre chaque point de la discrétisation\n",
    "\n",
    "# Création de la grille 1D\n",
    "x = np.linspace(xmin, xmax, num=nx)"
   ]
  },
  {
   "cell_type": "code",
   "execution_count": 6,
   "metadata": {},
   "outputs": [],
   "source": [
    "def solution(a,b,c,d,x):\n",
    "    \"\"\"\n",
    "    Renvoie la valeur de f(x) pour chaque élément de x, étant donné les conditions au bord (a,b,c,d).\n",
    "    \n",
    "    Paramètres :\n",
    "    -----------\n",
    "    a,b,c,d :   float\n",
    "                Conditions au bord du système : f(0)=a, f'(0)=b, f(1)=c, f'(1)=d.\n",
    "                \n",
    "    x :         ndarray\n",
    "                Discrétisation de l'intervalle [0,1] comme un array à une dimension de floats.\n",
    "                \n",
    "    Retourne :\n",
    "    --------\n",
    "    sol :       ndarray\n",
    "                Fonction f(x) sur le domaine [0,1] comme un array (1D).\n",
    "                \n",
    "    \"\"\"\n",
    "    #On calcule les constantes d'intégrations\n",
    "    c1, c2, c3, c4 = constants_of_int(a,b,c,d)\n",
    "    #On calcule f(x) sur le domaine demandé\n",
    "    sol = c1*np.exp(-2*x) + c2*np.exp(-x) + c3*np.exp(x) + c4*np.exp(2*x)\n",
    "    return sol"
   ]
  },
  {
   "cell_type": "markdown",
   "metadata": {},
   "source": [
    "Nous venons de définir la fonction (6). Pour la représenter graphiquement, nous allons définir une fonction python (qui nous sera utile plus tard) qui prend comme paramètres la fonction dont on souhaite dessiner le graphique et un array 1D donnant la discrétisation du domaine de représentation, et qui retourne le graphique demandé."
   ]
  },
  {
   "cell_type": "code",
   "execution_count": 7,
   "metadata": {},
   "outputs": [
    {
     "data": {
      "image/png": "[encoded data removed]",
      "text/plain": [
       "<Figure size 648x288 with 1 Axes>"
      ]
     },
     "metadata": {
      "needs_background": "light"
     },
     "output_type": "display_data"
    }
   ],
   "source": [
    "f_exact = solution(0,0,1,-1, x)\n",
    "pyplot.figure(figsize=(9.0, 4.0))\n",
    "pyplot.title(\"Graphique de la solution analytique\")\n",
    "pyplot.xlabel('x')\n",
    "pyplot.ylabel('f(x)')\n",
    "pyplot.grid()   \n",
    "pyplot.plot(x, f_exact, color='C0', linestyle='-', linewidth=2)\n",
    "pyplot.xlim(0,Lx);"
   ]
  },
  {
   "cell_type": "markdown",
   "metadata": {},
   "source": [
    "### 4)\n",
    "\n",
    "Rappelons que la méthode de Gauss-Seidel consiste à partir d'une estimation de la solution, et à l'améliorer par des itérations actualisées, à partir des conditions aux bords. Nous avons donc besoin d'une fonction initiale pour lancer l'algorithme. Nous prendrons une fonction nulle sur l'intérieur du domaine mais obéissant néanmoins aux conditions au bord. \n",
    "\n",
    "Remarque : Nous verrons qu'il est en fait impossible de prendre une fonction nulle partout à l'intérieur du domaine qui satisfait les conditions au bord, en raison de la condition de Dirichlet à l'extrémité droite de l'intervalle.\n",
    "\n",
    "Les conditions de Dirichlet peuvent être implémentées directement en donnant une valeur à f sur le bord du domaine : \n",
    "\n",
    "\\begin{equation}\n",
    "   \\left\\{\n",
    "    \\begin{array}{ll}\n",
    "        f(0)=0\\\\\n",
    "        f(1)=1\n",
    "    \\end{array}\n",
    "\\right. \n",
    "\\end{equation}\n",
    "\n",
    "\n",
    "Pour les conditions de Von Neumann, nous devons discrétiser les dérivées. Nous utiliserons une \"forward finite difference\" pour la dérivée en x=0 et une \"backward finite difference\" pour la dérivée en x=1. Les conditions de Von Neumann s'expriment donc :\n",
    "\n",
    "\\begin{equation}\n",
    "\\left\\{\n",
    "    \\begin{array}{ll}\n",
    "        \\frac{3f_{nx-1}-4f_{nx-2}+f_{nx-3}}{2\\Delta x} = -1\\\\\n",
    "        \\frac{-3f_0+4f_1-f_2}{2\\Delta x} = 0\n",
    "    \\end{array}\n",
    "\\right.\n",
    "\\end{equation}\n",
    "\n",
    "En prenant f(x)=0 sur l'intérieur du domaine partout où c'est possible, on obtient finalement la fonction initiale suivante:\n",
    "\n",
    "\\begin{equation}\n",
    "\\left\\{\n",
    "    \\begin{array}{ll} \n",
    "        f_i=0 \\quad \\forall i \\in \\{0,1,...,nx-3\\}\\\\\n",
    "        f_{nx-1}=1\\\\\n",
    "        f_{nx-2}=\\frac{3+2 \\Delta x}{4}\n",
    "    \\end{array}\n",
    "\\right.\n",
    "\\end{equation}\n",
    "\n",
    "Implémentons à présent la fonction de départ."
   ]
  },
  {
   "cell_type": "code",
   "execution_count": 8,
   "metadata": {},
   "outputs": [],
   "source": [
    "#fonction intiale\n",
    "f0 = np.zeros(nx)\n",
    "f0[nx-1] = 1\n",
    "f0[nx-2] = 0.25*(3+2*dx)"
   ]
  },
  {
   "cell_type": "markdown",
   "metadata": {},
   "source": [
    "Visualisons ces conditions initiales sur un graphe."
   ]
  },
  {
   "cell_type": "code",
   "execution_count": 9,
   "metadata": {},
   "outputs": [
    {
     "data": {
      "image/png": "[encoded data removed]",
      "text/plain": [
       "<Figure size 648x288 with 1 Axes>"
      ]
     },
     "metadata": {
      "needs_background": "light"
     },
     "output_type": "display_data"
    }
   ],
   "source": [
    "pyplot.figure(figsize=(9.0, 4.0))\n",
    "pyplot.title(\"Conditions initiales\")\n",
    "pyplot.xlabel('x')\n",
    "pyplot.ylabel('f(x)')\n",
    "pyplot.grid()   \n",
    "pyplot.plot(x, f0, color='C0', linestyle='-', linewidth=2)\n",
    "pyplot.xlim(0,Lx);"
   ]
  },
  {
   "cell_type": "markdown",
   "metadata": {},
   "source": [
    "Ecrivons maintenant une fonction qui résout l'équation (1) sous les conditions (4) par la méthode de Gauss-Seidel. Pour ce faire, nous devons discrétiser l'équation (1), on va utiliser une \"central finite difference\" au second  ordre. L'équation (1) s'écrit donc :\n",
    "\n",
    "\\begin{equation}\n",
    "\\frac{f_{i-2}-4f_{i-1}+6f_i-4f_{i+1}+f_{i+2}}{\\Delta x^4}-5\\frac{f_{i-1}-2f_i+f_{i+1}}{\\Delta x^2} + 4f_i =0\\\\\n",
    "\\Rightarrow f_i^{k+1} = \\frac{(4+5\\Delta x^2)(f_{i+1}^k+f_{i-1}^k)-f_{i+2}^k-f_{i-2}^k}{4\\Delta x^4 + 10 \\Delta x^2 +6}\n",
    "\\end{equation}\n",
    "\n",
    "Où i est l'indice donnant la position sur l'axe x et k est l'indice donnant l'itération. La méthode de Gauss-Siegel consiste à utiliser le fait qu'au moment de calculer $f_i$, $f_{i-1}$ et $f_{i-2}$ ont déjà été calculés. Dès lors, au lieu d'utiliser leur valeur à la $k^e$ itération pour calculer $f_i^{k+1}$, on peut utiliser leur valeur calculée à la $k+1^e$ itération.\n",
    "\n",
    "\\begin{equation}\n",
    "f_i^{k+1} = \\frac{(4+5\\Delta x^2)(f_{i+1}^k+f_{i-1}^{k+1})-f_{i+2}^k-f_{i-2}^{k+1}}{4\\Delta x^4 + 10 \\Delta x^2 +6}\n",
    "\\end{equation}\n"
   ]
  },
  {
   "cell_type": "markdown",
   "metadata": {},
   "source": [
    "De plus, à chaque itération, nous devons toujours respecter les conditions bord. Pour les conditions de DIrichlet, il suffit de ne pas toucher aux valeurs de $f_0$ et $f_{nx-1}$ pour ne pas les modifier. Pour les conditions de Von Neumann, on va encore utiliser une \"forward finite difference\" au deuxième ordre et une \"backward finite difference\" au second ordre.\n",
    "\n",
    "\\begin{equation}\n",
    "\\left\\{\n",
    "    \\begin{array}{ll}\n",
    "        \\frac{3f_{nx-1}-4f_{nx-2}+f_{nx-3}}{2\\Delta x} = -1\\\\\n",
    "        \\frac{-3f_0+4f_1-f_2}{2\\Delta x} = 0\n",
    "    \\end{array}\n",
    "\\right.\n",
    "\\end{equation}\n",
    "\n",
    "Mais, par les conditions de Dirichlet, $f_0^k=0$ et $f_{nx-1}^k=1$ pour tout k. On a donc\n",
    "\n",
    "\\begin{equation}\n",
    "\\left\\{\n",
    "    \\begin{array}{ll}\n",
    "        f_1^k=\\frac{f_2^k}{4}\\\\\n",
    "        f_{nx-2}^{k}=\\frac{2\\Delta x + 3 + f_{nx-3}^k}{4}\n",
    "    \\end{array}\n",
    "\\right.\n",
    "\\end{equation}\n",
    "\n",
    "On peut maintenant définir la fonction \"gauss_seidel\":"
   ]
  },
  {
   "cell_type": "code",
   "execution_count": 10,
   "metadata": {},
   "outputs": [],
   "source": [
    "@jit(nopython=False) #optimize code with numba\n",
    "def gauss_seidel(f0, dx, maxiter=1e8, rtol=1e-8):\n",
    "    \"\"\"\n",
    "    Résout l'équation (1) sous les conditions au bord (4)\n",
    "    en utilisant la méthode de relaxation de Gauss-Seidel.\n",
    "    \n",
    "    Le critère d'arrêt du solveur est basée sur la norme L2 relative entre deux\n",
    "    itérations consécutives.\n",
    "    \n",
    "    Paramètres :\n",
    "    ----------\n",
    "    f0 : numpy.ndarray\n",
    "         Estimation initiale\n",
    "    dx : float\n",
    "         Espacement entre chaque point de la discrétisation;\n",
    "    maxiter :   integer, optionnel\n",
    "                Nombre d'itération maximum;\n",
    "                par défaut : 20000\n",
    "    rtol : float, optionnel\n",
    "           Tolérence relative pour la convergence;\n",
    "           par défaut: 1e-8.\n",
    "    \n",
    "    Retourne :\n",
    "    --------\n",
    "    f : numpy.ndarray\n",
    "        La solution après relaxation comme un array 1D de floats\n",
    "    ite : integer\n",
    "          Nombre d'itérations ayant eu lieu\n",
    "    \n",
    "    conv : list\n",
    "           Historique de convergence sous forme d'une liste de floats\n",
    "    \"\"\"\n",
    "    f = f0.copy()  #On fait une copie de la solution initiale\n",
    "    diff = rtol + 1.0  # différence initiale arbitrairement choisie (>rtol)\n",
    "    conv=[diff] #initialisation de l'historique de convergence\n",
    "    ite = 0  # index de l'itération\n",
    "    while diff > rtol and ite < maxiter: #On continue tant que la différence entre chaque itération est \n",
    "                                         #supérieure à rtol; on définit un nombre max d'itérations\n",
    "        fn = f.copy()# On actualise la solution à l'intérieur du domaine\n",
    "        for i in range(2, nx - 2):\n",
    "            f[i] = ((4+5*dx**2)*(f[i+1]+f[i-1])-f[i+2]-f[i-2])/(4*dx**4+10*dx**2+6)\n",
    "        # On applique la condition de Von Neumann à droite et à gauche du domaine\n",
    "        f[nx-2]=0.25*(2*dx+3+f[nx-3])\n",
    "        f[1]=0.25*f[2]\n",
    "        # On calcule la norme L2 relative de la différence \n",
    "        diff = np.sqrt(np.sum((f - fn)**2)/np.sum(fn**2))\n",
    "        conv.append(diff)\n",
    "        ite += 1\n",
    "    return f, ite, conv"
   ]
  },
  {
   "cell_type": "code",
   "execution_count": 11,
   "metadata": {},
   "outputs": [],
   "source": [
    "# Compute the solution using Gauss-Seidel relaxation method.\n",
    "f_gs, ite, conv_gs = gauss_seidel(f0,dx,maxiter=1e7, rtol=1e-8)"
   ]
  },
  {
   "cell_type": "code",
   "execution_count": 12,
   "metadata": {},
   "outputs": [
    {
     "name": "stdout",
     "output_type": "stream",
     "text": [
      "Gauss-Seidel relaxation: 2609892 iterations to reach a relative difference of 9.999989904382818e-09\n"
     ]
    }
   ],
   "source": [
    "print('Gauss-Seidel relaxation: {} iterations '.format(ite) +\n",
    "      'to reach a relative difference of {}'.format(conv_gs[-1]))"
   ]
  },
  {
   "cell_type": "code",
   "execution_count": 13,
   "metadata": {},
   "outputs": [
    {
     "data": {
      "image/png": "[encoded data removed]",
      "text/plain": [
       "<Figure size 648x288 with 1 Axes>"
      ]
     },
     "metadata": {
      "needs_background": "light"
     },
     "output_type": "display_data"
    }
   ],
   "source": [
    "pyplot.figure(figsize=(9.0, 4.0))\n",
    "pyplot.title(\"Solution numérique par la méthode de Gauss-Seidel\")\n",
    "pyplot.xlabel('x')\n",
    "pyplot.ylabel('f(x)')\n",
    "pyplot.grid()   \n",
    "pyplot.plot(x, f_exact, color='r', linestyle='-', linewidth=3)\n",
    "pyplot.plot(x, f_gs, color='g', linestyle='-', linewidth=1)\n",
    "pyplot.xlim(0,Lx);"
   ]
  },
  {
   "cell_type": "markdown",
   "metadata": {},
   "source": [
    "Graphiquement, la solution numérique (en noir) concorde presque parfaitement avec la solution exacte (en rouge) (6) \n",
    "\n",
    "Remarque : Il est difficile d'observer les deux courbes car elles sont quasiment superposées, mais on peut vérifier qu'elles sont bien là toutes les deux en modifiant la largeur relative des traits. \n",
    "\n",
    "\n",
    "Vérifions cette observation en calculant la norme L2 relative entre la solution exacte et la solution obtenue avec l'algorithme de Gauss Seidel."
   ]
  },
  {
   "cell_type": "code",
   "execution_count": 14,
   "metadata": {},
   "outputs": [
    {
     "data": {
      "text/plain": [
       "0.0052488497362888934"
      ]
     },
     "execution_count": 14,
     "metadata": {},
     "output_type": "execute_result"
    }
   ],
   "source": [
    "L2_rel_error(f_gs,f_exact)"
   ]
  },
  {
   "cell_type": "markdown",
   "metadata": {},
   "source": [
    "Cette différence est tout à fait raisonnable. Pour finir, on peut déterminer le temps d'exécution du programme."
   ]
  },
  {
   "cell_type": "code",
   "execution_count": 15,
   "metadata": {},
   "outputs": [
    {
     "name": "stdout",
     "output_type": "stream",
     "text": [
      "32.5 ms ± 368 µs per loop (mean ± std. dev. of 7 runs, 1 loop each)\n"
     ]
    }
   ],
   "source": [
    "%%timeit\n",
    "gauss_seidel(f0, dx, maxiter=20000, rtol=1e-8)"
   ]
  },
  {
   "cell_type": "markdown",
   "metadata": {},
   "source": [
    "### 5)"
   ]
  },
  {
   "cell_type": "markdown",
   "metadata": {},
   "source": [
    "Pour finir, nous allons résoudre le même problème qu'aux questions précédentes en appliquant cette fois la méthode du gradient conjugué. Nous avons déjà bien défini tous les paramètres du problème, il s'agit donc simplement d'écrire l'algorithme. Pour ce faire, nous définissons l'opérateur $A$ comme :\n",
    "\n",
    "$$\n",
    "\\frac{d^4 f}{dx^4}- 5 \\frac{d^2 f}{dx^2}+ 4f = 0 \n",
    "$$\n",
    "\n",
    "$$\n",
    "\\Leftrightarrow  A(\\textbf{f})=\\textbf{0}\n",
    "$$\n",
    "\n",
    "Rappelons que dans la définition de $A$, $\\textbf{f}$ et $\\textbf{0}$ sont des vecteurs de dimension nx et $A$ est une matrice de dimension nx. Discrétisons l'opérateur $A$ en central finite différence à l'ordre 2.\n",
    "\n",
    "\\begin{align}\n",
    "A(f_i)= \\frac{f_{i-2}-4f_{i-1}+6f_{i}-4f_{i+1}+f_{i+2}}{\\Delta x^4}-5\\frac{f_{i-1}-2f_{i}+f_{i+1}}{\\Delta x^2}+4f_i\n",
    "\\end{align}"
   ]
  },
  {
   "cell_type": "markdown",
   "metadata": {},
   "source": [
    "Nous devons à présent implémenter les conditions au bord. Celles de Dirichlet sont automatiquement respectées en ne modifiant simplement pas le premier et le dernier élement de la condition initiale. En revanche, les conditions de Von Neumann sont plus délicates à traiter. En effet, pour les nx-2 autres éléments de $f$, nous ne pouvons pas simplement implémenter $A$ comme défini ci-haut puisque cette fonction fait appel, pour le calcul de $f_1$ et $f_{nx-2}$,  aux éléments $f_{-1}$ et $f_{nx}$ qui ne sont pas définis. Pour remédier à ce problème, nous allons discrétiser les conditions de Von Neumann en central finite difference."
   ]
  },
  {
   "cell_type": "markdown",
   "metadata": {},
   "source": [
    "\\begin{align}\n",
    "\\left\\{\n",
    "    \\begin{array}{ll}\n",
    "    \\frac{f_1-f_{-1}}{2\\Delta x} &= 0 \\\\\n",
    "    \\frac{f_{nx}-f_{nx-2}}{2\\Delta x} &= -1\n",
    "    \\end{array}\n",
    "\\right.\n",
    "\\end{align}\n",
    "\n",
    "Ce qui revient à exprimer des éléments extérieurs à la discrétisation en fonction d'éléments définis de $\\textbf{f}$.\n",
    "\n",
    "\\begin{align}\n",
    "\\left\\{\n",
    "    \\begin{array}{ll}\n",
    "    f_{-1} &= f_1 \\\\\n",
    "    f_{nx} &= -2\\Delta x + f_{nx-2}\n",
    "    \\end{array}\n",
    "\\right. \\hspace{3cm} (7)\n",
    "\\end{align}"
   ]
  },
  {
   "cell_type": "markdown",
   "metadata": {},
   "source": [
    "On a donc finallement :"
   ]
  },
  {
   "cell_type": "markdown",
   "metadata": {},
   "source": [
    "\\begin{align}\n",
    "\\Leftrightarrow \n",
    "  &\\left\\{\n",
    "    \\begin{array}{ll}\n",
    "    A(f_1)&= \\frac{7f_{1}-4f_{2}+f_{3}}{\\Delta x^4}-5\\frac{-2f_{1}+f_{2}}{\\Delta x^2}+4f_1 \\\\\n",
    "    A(f_{nx-2})&= \\frac{f_{nx-4}-4f_{nx-3}+7f_{nx-2}-4-2\\Delta x}{\\Delta x^4}-5\\frac{f_{nx-3}-2f_{nx-2}+1}{\\Delta x^2}+4f_{nx-2}\n",
    "    \\end{array}\n",
    "\\right.\n",
    "\\end{align}\n",
    "\n",
    "où on a utilisé les conditions de Dirichlet $f_0=0$, $f_{nx-1}=1$ et les deux égalités (7)."
   ]
  },
  {
   "cell_type": "markdown",
   "metadata": {},
   "source": [
    "Nous pouvons maintenant définir la fonction \"conjugate_gradient\"."
   ]
  },
  {
   "cell_type": "code",
   "execution_count": 16,
   "metadata": {},
   "outputs": [],
   "source": [
    "def conjugate_gradient(f0, dx, maxiter=1000, rtol=1e-8): \n",
    "    \"\"\" Résout l'équation (1) sous les conditions au bord (4) en utilisant la méthode de relaxation de Gauss-Seidel.\n",
    "    \n",
    "    Le critère d'arrêt du solveur est basée sur la norme L2 relative entre deux itérations consécutives.\n",
    "\n",
    "    Paramètres\n",
    "    ----------\n",
    "    f0 : numpy.ndarray\n",
    "         Estimation initiale\n",
    "    dx : float\n",
    "         Espacement entre chaque point de la discrétisation\n",
    "    maxiter :   integer, optionnel\n",
    "                Nombre d'itération maximum;\n",
    "                par défaut : 1000\n",
    "    rtol : float, optionnel\n",
    "           Tolérence relative pour la convergence;\n",
    "           par défaut: 1e-8.\n",
    "    Retourne :\n",
    "    --------\n",
    "    f : numpy.ndarray\n",
    "        La solution après relaxation comme un array 1D de floats\n",
    "    ite : integer\n",
    "          Nombre d'itérations ayant eu lieu\n",
    "    \n",
    "    conv : list\n",
    "           Historique de convergence sous forme d'une liste de floats    \n",
    "        \n",
    "    \"\"\"\n",
    "    def A(f):\n",
    "        # Appliquer l'opérateur laplacien à p\n",
    "        g=np.zeros(nx-2)\n",
    "        g[1:-1]=(f[:-4]-4*f[1:-3]+6*f[2:-2]-4*f[3:-1]+f[4:])/(dx**4)-5*(f[1:-3]-2*f[2:-2]+f[3:-1])/(dx**2)+4*f[2:-2]\n",
    "        g[0]= (7*f[1]-4*f[2]+f[3])/(dx**4)-5*(-2*f[1]+f[2])/(dx**2)+4*f[1]\n",
    "        g[-1]= (f[nx-4]-4*f[nx-3]+7*f[nx-2]-4-2*dx)/(dx**4)-5*(f[nx-3]-2*f[nx-2]+1)/(dx**2)+4*f[nx-2]\n",
    "        return g\n",
    "    f = f0.copy()\n",
    "    r = np.zeros(nx)  # résidu initial\n",
    "    Ad = np.zeros(nx)  # Pour stocker les multiplications du vecteur d par la matrice A\n",
    "    conv = []  # historique de la convergence\n",
    "    diff = rtol + 1  # différence initiale\n",
    "    ite = 0  # indice de l'itération\n",
    "    # On calcule le résidu initial\n",
    "    r[1:-1] =  - A(f)\n",
    "    # On prend le résidu comme direction de recherche initiale.\n",
    "    d = r.copy()\n",
    "    while diff > rtol and ite < maxiter:\n",
    "        fk = f.copy()\n",
    "        rk = r.copy()\n",
    "        # On calcule l'application de l'opérateur A à la direction d\n",
    "        Ad[1:-1] = A(d)\n",
    "        # On calcule la taille de l'étape\n",
    "        alpha = np.sum(r * r) / np.sum(d * Ad)\n",
    "        # On met à jour la solution\n",
    "        f = fk + alpha * d\n",
    "        # On met à jour le résidu\n",
    "        r = rk - alpha * Ad\n",
    "        # On met  à jour la direction de recherche\n",
    "        beta = np.sum(r * r) / np.sum(rk * rk)\n",
    "        d = r + beta * d\n",
    "        # On calcule la norme L2 relative entre deux solutions consécutives.\n",
    "        diff = L2_rel_error(f, fk)\n",
    "        conv.append(diff)\n",
    "        ite += 1\n",
    "    return f, ite, conv"
   ]
  },
  {
   "cell_type": "code",
   "execution_count": 21,
   "metadata": {},
   "outputs": [
    {
     "name": "stdout",
     "output_type": "stream",
     "text": [
      "Method of conjugate gradients: 681 iterations to reach a relative difference of 9.601399779016183e-09\n"
     ]
    }
   ],
   "source": [
    "f_cg, ites, conv_cg = conjugate_gradient(f0, dx,maxiter=1000,rtol=1e-8)\n",
    "print('Method of conjugate gradients: {} iterations '.format(ites) +\n",
    "      'to reach a relative difference of {}'.format(conv_cg[-1]))"
   ]
  },
  {
   "cell_type": "code",
   "execution_count": 22,
   "metadata": {},
   "outputs": [
    {
     "data": {
      "image/png": "[encoded data removed]",
      "text/plain": [
       "<Figure size 648x288 with 1 Axes>"
      ]
     },
     "metadata": {
      "needs_background": "light"
     },
     "output_type": "display_data"
    }
   ],
   "source": [
    "pyplot.figure(figsize=(9.0, 4.0))\n",
    "pyplot.title(\"Solution par la méthode du gradient conjugué\")\n",
    "pyplot.xlabel('x')\n",
    "pyplot.ylabel('f(x)')\n",
    "pyplot.grid()   \n",
    "pyplot.plot(x, f_cg, color='k', linestyle='-', linewidth=1)\n",
    "pyplot.xlim(0,Lx);"
   ]
  },
  {
   "cell_type": "markdown",
   "metadata": {},
   "source": [
    "Graphiquement la solution semble cohérente avec la solution exacte et la solution numérique obtenue par la méthode de Gauss-Seidel."
   ]
  },
  {
   "cell_type": "code",
   "execution_count": 23,
   "metadata": {},
   "outputs": [
    {
     "data": {
      "text/plain": [
       "3.9799702122608504e-05"
      ]
     },
     "execution_count": 23,
     "metadata": {},
     "output_type": "execute_result"
    }
   ],
   "source": [
    "L2_rel_error(f_cg,f_exact)"
   ]
  },
  {
   "cell_type": "code",
   "execution_count": 24,
   "metadata": {},
   "outputs": [
    {
     "name": "stdout",
     "output_type": "stream",
     "text": [
      "50.6 ms ± 7.02 ms per loop (mean ± std. dev. of 7 runs, 10 loops each)\n"
     ]
    }
   ],
   "source": [
    "%%timeit\n",
    "conjugate_gradient(f0, dx, maxiter=1000, rtol=1e-8)"
   ]
  },
  {
   "cell_type": "markdown",
   "metadata": {},
   "source": [
    "La méthode du gradient conjugué nous offre donc une solution numérique beaucoup plus précise, l'erreur relative étant 100 fois moindre. L'amélioration la plus frappante est bien sûr le nombre d'itérations nécessaires avant la convergence. Gauss-Seidel nécessite plus de 2 million et demi d'itération là où la méthode du gradient conjugué atteint le seuil en moins de 1000 itérations ! De plus, le temps d'excécution de la fonction conjugate_gradient est presque deux fois plus rapide qu'avec la méthode de Gauss-Seidel. Remarquons que ce rapport entre les deux temps de calcul dépend fortement de l'appareil et du problème auquel on applique les algorithme (en particulier à la dimension et la taille du domaine étudié)."
   ]
  },
  {
   "cell_type": "markdown",
   "metadata": {},
   "source": [
    "### Remarque sur la décroissance de la différence entre itérations"
   ]
  },
  {
   "cell_type": "markdown",
   "metadata": {},
   "source": [
    "Dans le module 5 du cours nous avons vu que, pour la méthode de Gauss-Seidel, la différence entre deux itérations successives décroît très rapidement au départ, puis qu'elle diminue plus lentement jusqu'à atteindre le seuil requis après un grand nombre d'itérations. Nous avions également étudié d'autre méthodes suivant un comportement siimilaire mais convergeant beaucoup plus rapidement comme la méthode \"SOR\". En particulier, les graphiques donnant l'évolution de la norme relative L2 de la différence semblent toujours \"lisses\". Il serait intéressant de regarder le graphique de l'évolution de la norme L2 pour nos deux fonctions \"gauss_seidel\" et \"conjugate_gradient\"."
   ]
  },
  {
   "cell_type": "code",
   "execution_count": 25,
   "metadata": {},
   "outputs": [
    {
     "name": "stderr",
     "output_type": "stream",
     "text": [
      "/Users/lmbenizri/opt/anaconda3/lib/python3.7/site-packages/IPython/core/pylabtools.py:132: UserWarning: Creating legend with loc=\"best\" can be slow with large amounts of data.\n",
      "  fig.canvas.print_figure(bytes_io, **kw)\n"
     ]
    },
    {
     "data": {
      "image/png": "[encoded data removed]",
      "text/plain": [
       "<Figure size 648x288 with 1 Axes>"
      ]
     },
     "metadata": {
      "needs_background": "light"
     },
     "output_type": "display_data"
    }
   ],
   "source": [
    "pyplot.figure(figsize=(9.0, 4.0))\n",
    "pyplot.xlabel('Iterations')\n",
    "pyplot.ylabel(\"Norme relative $L_2$ \\n de la différence\")\n",
    "pyplot.grid()\n",
    "pyplot.semilogy(conv_gs, label='Gauss-Seidel')\n",
    "pyplot.semilogy(conv_cg, label='Gradient conjugué')\n",
    "pyplot.legend()\n",
    "pyplot.xlim(0, 1000);"
   ]
  },
  {
   "cell_type": "markdown",
   "metadata": {},
   "source": [
    "Bien sûr, nous ne pouvons pas afficher toute la courbe pour la méthode de Gauss-Seidel puisqu'elle n'atteint son but qu'après 2 609 892 itérations alors que la courbe du gradient conjugué l'atteint après seulement 681 itérations. Comme attendu, la première courbe est assez lisse, décroit très rapidement lors des premières itérations puis diminue lentement jusqu'au seuil. Le graphique correspondant à la méthode du gradient conjugué est plus étonnant. La norme relative diminue d'abord moins rapidement que Gauss-Seidel. Puis, après environ une centaine d'itérations, elle commence à osciller autour de cette première courbe (de façon saccadée). L'amplitude de ces oscillations s'accroît (et les minima associés sont donc de plus en plus bas). Après environ 500 itérations, le graphe cesse d'osciller autour de la courbe de Gauss-Seidel et continue sa descente irrégulière jusqu'à atteindre le seuil de $10^{-8}$ après seulement 200 itérations supplémentaires."
   ]
  }
 ],
 "metadata": {
  "kernelspec": {
   "display_name": "Python 3",
   "language": "python",
   "name": "python3"
  },
  "language_info": {
   "codemirror_mode": {
    "name": "ipython",
    "version": 3
   },
   "file_extension": ".py",
   "mimetype": "text/x-python",
   "name": "python",
   "nbconvert_exporter": "python",
   "pygments_lexer": "ipython3",
   "version": "3.7.6"
  }
 },
 "nbformat": 4,
 "nbformat_minor": 2
}
